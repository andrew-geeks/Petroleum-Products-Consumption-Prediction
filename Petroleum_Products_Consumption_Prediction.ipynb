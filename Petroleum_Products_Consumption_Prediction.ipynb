{
 "cells": [
  {
   "cell_type": "markdown",
   "id": "de24043a",
   "metadata": {},
   "source": [
    "# Petroleum Products Consumption EDA & Prediction🛢️⛽📊"
   ]
  },
  {
   "cell_type": "markdown",
   "id": "1393648b",
   "metadata": {},
   "source": [
    "## Importing Libraries & Dataset"
   ]
  },
  {
   "cell_type": "code",
   "execution_count": 1,
   "id": "590041fe",
   "metadata": {},
   "outputs": [],
   "source": [
    "import pandas as pd\n",
    "import numpy as np"
   ]
  },
  {
   "cell_type": "code",
   "execution_count": 2,
   "id": "04b51b82",
   "metadata": {},
   "outputs": [
    {
     "data": {
      "text/html": [
       "<div>\n",
       "<style scoped>\n",
       "    .dataframe tbody tr th:only-of-type {\n",
       "        vertical-align: middle;\n",
       "    }\n",
       "\n",
       "    .dataframe tbody tr th {\n",
       "        vertical-align: top;\n",
       "    }\n",
       "\n",
       "    .dataframe thead th {\n",
       "        text-align: right;\n",
       "    }\n",
       "</style>\n",
       "<table border=\"1\" class=\"dataframe\">\n",
       "  <thead>\n",
       "    <tr style=\"text-align: right;\">\n",
       "      <th></th>\n",
       "      <th>Month</th>\n",
       "      <th>Year</th>\n",
       "      <th>PRODUCTS</th>\n",
       "      <th>Quantity (000 Metric Tonnes)</th>\n",
       "      <th>updated_date</th>\n",
       "    </tr>\n",
       "  </thead>\n",
       "  <tbody>\n",
       "    <tr>\n",
       "      <th>0</th>\n",
       "      <td>August</td>\n",
       "      <td>2023</td>\n",
       "      <td>ATF</td>\n",
       "      <td>676.75</td>\n",
       "      <td>2024-01-03</td>\n",
       "    </tr>\n",
       "    <tr>\n",
       "      <th>1</th>\n",
       "      <td>July</td>\n",
       "      <td>2023</td>\n",
       "      <td>ATF</td>\n",
       "      <td>663.23</td>\n",
       "      <td>2024-01-03</td>\n",
       "    </tr>\n",
       "    <tr>\n",
       "      <th>2</th>\n",
       "      <td>June</td>\n",
       "      <td>2023</td>\n",
       "      <td>ATF</td>\n",
       "      <td>642.33</td>\n",
       "      <td>2024-01-03</td>\n",
       "    </tr>\n",
       "    <tr>\n",
       "      <th>3</th>\n",
       "      <td>May</td>\n",
       "      <td>2023</td>\n",
       "      <td>ATF</td>\n",
       "      <td>670.58</td>\n",
       "      <td>2024-01-03</td>\n",
       "    </tr>\n",
       "    <tr>\n",
       "      <th>4</th>\n",
       "      <td>April</td>\n",
       "      <td>2023</td>\n",
       "      <td>ATF</td>\n",
       "      <td>655.98</td>\n",
       "      <td>2024-01-03</td>\n",
       "    </tr>\n",
       "  </tbody>\n",
       "</table>\n",
       "</div>"
      ],
      "text/plain": [
       "    Month  Year PRODUCTS  Quantity (000 Metric Tonnes) updated_date\n",
       "0  August  2023      ATF                        676.75   2024-01-03\n",
       "1    July  2023      ATF                        663.23   2024-01-03\n",
       "2    June  2023      ATF                        642.33   2024-01-03\n",
       "3     May  2023      ATF                        670.58   2024-01-03\n",
       "4   April  2023      ATF                        655.98   2024-01-03"
      ]
     },
     "execution_count": 2,
     "metadata": {},
     "output_type": "execute_result"
    }
   ],
   "source": [
    "df = pd.read_csv('consumption_data.csv')\n",
    "df.head()"
   ]
  },
  {
   "cell_type": "markdown",
   "id": "c5e6a580",
   "metadata": {},
   "source": [
    "## Data Preprocessing"
   ]
  },
  {
   "cell_type": "code",
   "execution_count": 3,
   "id": "34288a3d",
   "metadata": {},
   "outputs": [
    {
     "data": {
      "text/html": [
       "<div>\n",
       "<style scoped>\n",
       "    .dataframe tbody tr th:only-of-type {\n",
       "        vertical-align: middle;\n",
       "    }\n",
       "\n",
       "    .dataframe tbody tr th {\n",
       "        vertical-align: top;\n",
       "    }\n",
       "\n",
       "    .dataframe thead th {\n",
       "        text-align: right;\n",
       "    }\n",
       "</style>\n",
       "<table border=\"1\" class=\"dataframe\">\n",
       "  <thead>\n",
       "    <tr style=\"text-align: right;\">\n",
       "      <th></th>\n",
       "      <th>Year</th>\n",
       "      <th>Quantity (000 Metric Tonnes)</th>\n",
       "    </tr>\n",
       "  </thead>\n",
       "  <tbody>\n",
       "    <tr>\n",
       "      <th>count</th>\n",
       "      <td>492.000000</td>\n",
       "      <td>492.000000</td>\n",
       "    </tr>\n",
       "    <tr>\n",
       "      <th>mean</th>\n",
       "      <td>2021.463415</td>\n",
       "      <td>1453.350244</td>\n",
       "    </tr>\n",
       "    <tr>\n",
       "      <th>std</th>\n",
       "      <td>1.039291</td>\n",
       "      <td>1790.256405</td>\n",
       "    </tr>\n",
       "    <tr>\n",
       "      <th>min</th>\n",
       "      <td>2020.000000</td>\n",
       "      <td>23.240000</td>\n",
       "    </tr>\n",
       "    <tr>\n",
       "      <th>25%</th>\n",
       "      <td>2021.000000</td>\n",
       "      <td>362.070000</td>\n",
       "    </tr>\n",
       "    <tr>\n",
       "      <th>50%</th>\n",
       "      <td>2021.000000</td>\n",
       "      <td>858.270000</td>\n",
       "    </tr>\n",
       "    <tr>\n",
       "      <th>75%</th>\n",
       "      <td>2022.000000</td>\n",
       "      <td>1967.875000</td>\n",
       "    </tr>\n",
       "    <tr>\n",
       "      <th>max</th>\n",
       "      <td>2023.000000</td>\n",
       "      <td>8217.120000</td>\n",
       "    </tr>\n",
       "  </tbody>\n",
       "</table>\n",
       "</div>"
      ],
      "text/plain": [
       "              Year  Quantity (000 Metric Tonnes)\n",
       "count   492.000000                    492.000000\n",
       "mean   2021.463415                   1453.350244\n",
       "std       1.039291                   1790.256405\n",
       "min    2020.000000                     23.240000\n",
       "25%    2021.000000                    362.070000\n",
       "50%    2021.000000                    858.270000\n",
       "75%    2022.000000                   1967.875000\n",
       "max    2023.000000                   8217.120000"
      ]
     },
     "execution_count": 3,
     "metadata": {},
     "output_type": "execute_result"
    }
   ],
   "source": [
    "df.describe()"
   ]
  },
  {
   "cell_type": "code",
   "execution_count": 4,
   "id": "ba17f8db",
   "metadata": {},
   "outputs": [
    {
     "name": "stdout",
     "output_type": "stream",
     "text": [
      "<class 'pandas.core.frame.DataFrame'>\n",
      "RangeIndex: 492 entries, 0 to 491\n",
      "Data columns (total 5 columns):\n",
      " #   Column                        Non-Null Count  Dtype  \n",
      "---  ------                        --------------  -----  \n",
      " 0   Month                         492 non-null    object \n",
      " 1   Year                          492 non-null    int64  \n",
      " 2   PRODUCTS                      492 non-null    object \n",
      " 3   Quantity (000 Metric Tonnes)  492 non-null    float64\n",
      " 4   updated_date                  492 non-null    object \n",
      "dtypes: float64(1), int64(1), object(3)\n",
      "memory usage: 19.3+ KB\n"
     ]
    }
   ],
   "source": [
    "df.info()"
   ]
  },
  {
   "cell_type": "markdown",
   "id": "0fe01de3",
   "metadata": {},
   "source": [
    "Data contains no null values"
   ]
  },
  {
   "cell_type": "code",
   "execution_count": 5,
   "id": "9e761406",
   "metadata": {},
   "outputs": [
    {
     "data": {
      "text/plain": [
       "(492, 5)"
      ]
     },
     "execution_count": 5,
     "metadata": {},
     "output_type": "execute_result"
    }
   ],
   "source": [
    "df.shape"
   ]
  },
  {
   "cell_type": "markdown",
   "id": "94c5b192",
   "metadata": {},
   "source": [
    "Dataset contains 492 rows and 5 columns."
   ]
  },
  {
   "cell_type": "code",
   "execution_count": 6,
   "id": "c5d65678",
   "metadata": {},
   "outputs": [],
   "source": [
    "# Renaming Columns\n",
    "df.rename({'Quantity (000 Metric Tonnes)':'Quantity','PRODUCTS':'Products'},axis=1,inplace=True)"
   ]
  },
  {
   "cell_type": "markdown",
   "id": "499c0b8f",
   "metadata": {},
   "source": [
    "removing updated_date column, as it is not useful for us."
   ]
  },
  {
   "cell_type": "code",
   "execution_count": 7,
   "id": "44875dfb",
   "metadata": {},
   "outputs": [
    {
     "data": {
      "text/plain": [
       "0      2024-01-03\n",
       "1      2024-01-03\n",
       "2      2024-01-03\n",
       "3      2024-01-03\n",
       "4      2024-01-03\n",
       "          ...    \n",
       "487    2024-01-03\n",
       "488    2024-01-03\n",
       "489    2024-01-03\n",
       "490    2024-01-03\n",
       "491    2024-01-03\n",
       "Name: updated_date, Length: 492, dtype: object"
      ]
     },
     "execution_count": 7,
     "metadata": {},
     "output_type": "execute_result"
    }
   ],
   "source": [
    "df['updated_date']"
   ]
  },
  {
   "cell_type": "code",
   "execution_count": 8,
   "id": "24bf3076",
   "metadata": {},
   "outputs": [],
   "source": [
    "df.drop(columns=['updated_date'],inplace=True,axis=1)"
   ]
  },
  {
   "cell_type": "markdown",
   "id": "c7ee2bf3",
   "metadata": {},
   "source": [
    "#### Validating Column Values"
   ]
  },
  {
   "cell_type": "code",
   "execution_count": 9,
   "id": "a89b4ac9",
   "metadata": {},
   "outputs": [
    {
     "data": {
      "text/plain": [
       "array(['August', 'July', 'June', 'May', 'April', 'March', 'February',\n",
       "       'January', 'December', 'November', 'October', 'September'],\n",
       "      dtype=object)"
      ]
     },
     "execution_count": 9,
     "metadata": {},
     "output_type": "execute_result"
    }
   ],
   "source": [
    "df[\"Month\"].unique()"
   ]
  },
  {
   "cell_type": "code",
   "execution_count": 10,
   "id": "debaeead",
   "metadata": {},
   "outputs": [
    {
     "data": {
      "text/plain": [
       "array(['ATF', 'Bitumen', 'FO & LSHS', 'HSD', 'LDO', 'LPG',\n",
       "       'Lubricants & Greases', 'MS', 'Naphtha', 'Others',\n",
       "       'Petroleum coke', 'SKO'], dtype=object)"
      ]
     },
     "execution_count": 10,
     "metadata": {},
     "output_type": "execute_result"
    }
   ],
   "source": [
    "# Various products/by-products in production\n",
    "df[\"Products\"].unique()"
   ]
  },
  {
   "cell_type": "code",
   "execution_count": 11,
   "id": "49fd4bf1",
   "metadata": {},
   "outputs": [
    {
     "data": {
      "text/plain": [
       "array([2023, 2022, 2021, 2020], dtype=int64)"
      ]
     },
     "execution_count": 11,
     "metadata": {},
     "output_type": "execute_result"
    }
   ],
   "source": [
    "df[\"Year\"].unique()"
   ]
  },
  {
   "cell_type": "markdown",
   "id": "90ee60b5",
   "metadata": {},
   "source": [
    "data consists from year 2020 to 2021"
   ]
  },
  {
   "cell_type": "markdown",
   "id": "1ffbb0a6",
   "metadata": {},
   "source": [
    "## Exploratory Data Analysis(EDA)"
   ]
  },
  {
   "cell_type": "code",
   "execution_count": 12,
   "id": "582a1549",
   "metadata": {},
   "outputs": [],
   "source": [
    "import matplotlib.pyplot as plt\n",
    "import seaborn as sns"
   ]
  },
  {
   "cell_type": "markdown",
   "id": "fc69409f",
   "metadata": {},
   "source": [
    "### Average Production per year"
   ]
  },
  {
   "cell_type": "code",
   "execution_count": 13,
   "id": "ac67c6c7",
   "metadata": {},
   "outputs": [
    {
     "data": {
      "text/plain": [
       "<AxesSubplot:xlabel='Year', ylabel='Quantity'>"
      ]
     },
     "execution_count": 13,
     "metadata": {},
     "output_type": "execute_result"
    },
    {
     "data": {
      "image/png": "[encoded data removed]",
      "text/plain": [
       "<Figure size 432x288 with 1 Axes>"
      ]
     },
     "metadata": {
      "needs_background": "light"
     },
     "output_type": "display_data"
    }
   ],
   "source": [
    "#Average production per year\n",
    "avg_prod = df.groupby(\"Year\")[\"Quantity\"].mean()\n",
    "avg_prod = pd.DataFrame(avg_prod)\n",
    "sns.barplot(avg_prod,x='Year',y='Quantity')"
   ]
  },
  {
   "cell_type": "markdown",
   "id": "da4a801e",
   "metadata": {},
   "source": [
    "Inference: Average production of petroleum products are increasing year by year. "
   ]
  },
  {
   "cell_type": "markdown",
   "id": "46a8e03e",
   "metadata": {},
   "source": [
    "### Total Production for each Product(2020-2023)"
   ]
  },
  {
   "cell_type": "code",
   "execution_count": 14,
   "id": "edc83538",
   "metadata": {},
   "outputs": [
    {
     "data": {
      "text/plain": [
       "[Text(0, 0, '19393.9'),\n",
       " Text(0, 0, '26891.3'),\n",
       " Text(0, 0, '21576.1'),\n",
       " Text(0, 0, '272769'),\n",
       " Text(0, 0, '2933.25'),\n",
       " Text(0, 0, '95899.6'),\n",
       " Text(0, 0, '14025.9'),\n",
       " Text(0, 0, '109250'),\n",
       " Text(0, 0, '45048.9'),\n",
       " Text(0, 0, '46845.3'),\n",
       " Text(0, 0, '56409.5'),\n",
       " Text(0, 0, '4005.79')]"
      ]
     },
     "execution_count": 14,
     "metadata": {},
     "output_type": "execute_result"
    },
    {
     "data": {
      "image/png": "[encoded data removed]",
      "text/plain": [
       "<Figure size 1080x576 with 1 Axes>"
      ]
     },
     "metadata": {
      "needs_background": "light"
     },
     "output_type": "display_data"
    }
   ],
   "source": [
    "tot_prod = df.groupby('Products')[\"Quantity\"].sum()\n",
    "tot_prod = pd.DataFrame(tot_prod)\n",
    "plt.figure(figsize=(15,8))\n",
    "ax = sns.barplot(tot_prod,x='Products',y='Quantity',color='orange')\n",
    "ax.bar_label(ax.containers[0])"
   ]
  },
  {
   "cell_type": "markdown",
   "id": "ca3672dd",
   "metadata": {},
   "source": [
    "High Speed Diesel (HSD) is highest in production(272769 MT)."
   ]
  },
  {
   "cell_type": "markdown",
   "id": "dc57e025",
   "metadata": {},
   "source": [
    " ## Modeling"
   ]
  },
  {
   "cell_type": "code",
   "execution_count": 15,
   "id": "26479bce",
   "metadata": {},
   "outputs": [],
   "source": [
    "from sklearn.preprocessing import LabelEncoder\n",
    "from sklearn.preprocessing import MinMaxScaler\n",
    "from sklearn.model_selection import train_test_split\n",
    "from sklearn.linear_model import LinearRegression\n",
    "from sklearn.ensemble import RandomForestRegressor\n",
    "from sklearn.metrics import r2_score,precision_score"
   ]
  },
  {
   "cell_type": "code",
   "execution_count": 16,
   "id": "98f3d2eb",
   "metadata": {},
   "outputs": [],
   "source": [
    "le = LabelEncoder() #Month\n",
    "le_1 = LabelEncoder() #Products\n",
    "df[\"Month\"] = le.fit_transform(df[\"Month\"])\n",
    "df[\"Products\"] = le_1.fit_transform(df[\"Products\"])"
   ]
  },
  {
   "cell_type": "code",
   "execution_count": 50,
   "id": "81f5002e",
   "metadata": {},
   "outputs": [],
   "source": [
    "Q1 = df[\"Quantity\"].quantile(0.25)\n",
    "Q3 = df[\"Quantity\"].quantile(0.75)\n",
    "IQR = Q3-Q1\n",
    "outlier = df[((df[\"Quantity\"]<Q1-1.5*IQR)|(df[\"Quantity\"]>Q3+1.5*IQR))]\n",
    "df.drop(outlier.index,inplace=True)"
   ]
  },
  {
   "cell_type": "code",
   "execution_count": 51,
   "id": "d712b30a",
   "metadata": {},
   "outputs": [
    {
     "data": {
      "text/plain": [
       "<AxesSubplot:>"
      ]
     },
     "execution_count": 51,
     "metadata": {},
     "output_type": "execute_result"
    },
    {
     "data": {
      "image/png": "[encoded data removed]",
      "text/plain": [
       "<Figure size 432x288 with 2 Axes>"
      ]
     },
     "metadata": {
      "needs_background": "light"
     },
     "output_type": "display_data"
    }
   ],
   "source": [
    "sns.heatmap(df.corr(),annot=True)"
   ]
  },
  {
   "cell_type": "code",
   "execution_count": 52,
   "id": "bdb76d74",
   "metadata": {},
   "outputs": [
    {
     "data": {
      "text/plain": [
       "array(['April', 'August', 'December', 'February', 'January', 'July',\n",
       "       'June', 'March', 'May', 'November', 'October', 'September'],\n",
       "      dtype=object)"
      ]
     },
     "execution_count": 52,
     "metadata": {},
     "output_type": "execute_result"
    }
   ],
   "source": [
    "le.classes_"
   ]
  },
  {
   "cell_type": "code",
   "execution_count": 53,
   "id": "51a3ff48",
   "metadata": {},
   "outputs": [
    {
     "data": {
      "text/plain": [
       "array(['ATF', 'Bitumen', 'FO & LSHS', 'HSD', 'LDO', 'LPG',\n",
       "       'Lubricants & Greases', 'MS', 'Naphtha', 'Others',\n",
       "       'Petroleum coke', 'SKO'], dtype=object)"
      ]
     },
     "execution_count": 53,
     "metadata": {},
     "output_type": "execute_result"
    }
   ],
   "source": [
    "le_1.classes_"
   ]
  },
  {
   "cell_type": "code",
   "execution_count": 54,
   "id": "7ec0d750",
   "metadata": {},
   "outputs": [
    {
     "data": {
      "text/plain": [
       "array([ 0,  1,  2,  3,  4,  5,  6,  7,  8,  9, 10, 11])"
      ]
     },
     "execution_count": 54,
     "metadata": {},
     "output_type": "execute_result"
    }
   ],
   "source": [
    "df[\"Products\"].unique()"
   ]
  },
  {
   "cell_type": "code",
   "execution_count": 55,
   "id": "2b6bdf5a",
   "metadata": {},
   "outputs": [
    {
     "data": {
      "text/plain": [
       "array([ 1,  5,  6,  8,  0,  7,  3,  4,  2,  9, 10, 11])"
      ]
     },
     "execution_count": 55,
     "metadata": {},
     "output_type": "execute_result"
    }
   ],
   "source": [
    "df[\"Month\"].unique()"
   ]
  },
  {
   "cell_type": "code",
   "execution_count": 56,
   "id": "ba7641ad",
   "metadata": {},
   "outputs": [],
   "source": [
    "# mm = MinMaxScaler()\n",
    "# df[\"Year\"] = mm.fit_transform(df[[\"Year\"]])\n",
    "# df[\"Quantity\"] = mm.fit_transform(df[[\"Quantity\"]])\n"
   ]
  },
  {
   "cell_type": "code",
   "execution_count": 57,
   "id": "34edc7ef",
   "metadata": {},
   "outputs": [],
   "source": [
    "x = df.iloc[:,:3]\n",
    "y = df[\"Quantity\"]\n",
    "xtrain,xtest,ytrain,ytest = train_test_split(x,y,test_size=0.2,shuffle=True,random_state=1)"
   ]
  },
  {
   "cell_type": "code",
   "execution_count": 68,
   "id": "4ba98666",
   "metadata": {},
   "outputs": [
    {
     "data": {
      "text/plain": [
       "-15.681203224129973"
      ]
     },
     "execution_count": 68,
     "metadata": {},
     "output_type": "execute_result"
    }
   ],
   "source": [
    "# #LinearRegression\n",
    "# lr = LinearRegression()\n",
    "# lr.fit(xtrain,ytrain)\n",
    "# ypred = lr.predict(xtest)\n",
    "# r2_score(ypred,ytest)"
   ]
  },
  {
   "cell_type": "code",
   "execution_count": 72,
   "id": "78441ef8",
   "metadata": {},
   "outputs": [
    {
     "data": {
      "text/plain": [
       "-0.024618932714632447"
      ]
     },
     "execution_count": 72,
     "metadata": {},
     "output_type": "execute_result"
    }
   ],
   "source": []
  },
  {
   "cell_type": "code",
   "execution_count": 59,
   "id": "2723b7b4",
   "metadata": {},
   "outputs": [
    {
     "data": {
      "text/plain": [
       "0.9131308963441613"
      ]
     },
     "execution_count": 59,
     "metadata": {},
     "output_type": "execute_result"
    }
   ],
   "source": [
    "#RFR\n",
    "rfr = RandomForestRegressor(random_state=1,n_estimators=5)\n",
    "rfr.fit(xtrain,ytrain)\n",
    "ypred = rfr.predict(xtest)\n",
    "r2_score(ytest,ypred)"
   ]
  },
  {
   "cell_type": "code",
   "execution_count": 60,
   "id": "36f435c8",
   "metadata": {},
   "outputs": [
    {
     "data": {
      "text/plain": [
       "0.9131308963441613"
      ]
     },
     "execution_count": 60,
     "metadata": {},
     "output_type": "execute_result"
    }
   ],
   "source": [
    "rfr.score(xtest,ytest)"
   ]
  },
  {
   "cell_type": "code",
   "execution_count": 61,
   "id": "79ffdf4b",
   "metadata": {},
   "outputs": [
    {
     "data": {
      "text/plain": [
       "0.9754354221066412"
      ]
     },
     "execution_count": 61,
     "metadata": {},
     "output_type": "execute_result"
    }
   ],
   "source": [
    "rfr.score(xtrain,ytrain)"
   ]
  },
  {
   "cell_type": "code",
   "execution_count": 62,
   "id": "877da4b8",
   "metadata": {},
   "outputs": [
    {
     "data": {
      "text/plain": [
       "-0.09422488107768356"
      ]
     },
     "execution_count": 62,
     "metadata": {},
     "output_type": "execute_result"
    }
   ],
   "source": [
    "#SVM\n",
    "from sklearn.svm import SVR \n",
    "svr = SVR(kernel='rbf')\n",
    "svr.fit(xtrain,ytrain)\n",
    "ypred = svr.predict(xtest)\n",
    "r2_score(ytest,ypred)"
   ]
  },
  {
   "cell_type": "code",
   "execution_count": 65,
   "id": "ceb23a83",
   "metadata": {},
   "outputs": [
    {
     "name": "stderr",
     "output_type": "stream",
     "text": [
      "C:\\Users\\andre\\anaconda3\\lib\\site-packages\\sklearn\\base.py:450: UserWarning: X does not have valid feature names, but RandomForestRegressor was fitted with feature names\n",
      "  warnings.warn(\n"
     ]
    },
    {
     "data": {
      "text/plain": [
       "array([667.84])"
      ]
     },
     "execution_count": 65,
     "metadata": {},
     "output_type": "execute_result"
    }
   ],
   "source": [
    "rfr.predict([[le.transform(['January'])[0],2028,le_1.transform(['ATF'])[0]]])"
   ]
  },
  {
   "cell_type": "code",
   "execution_count": 70,
   "id": "89dab9e9",
   "metadata": {},
   "outputs": [
    {
     "name": "stderr",
     "output_type": "stream",
     "text": [
      "C:\\Users\\andre\\anaconda3\\lib\\site-packages\\sklearn\\base.py:450: UserWarning: X does not have valid feature names, but LinearRegression was fitted with feature names\n",
      "  warnings.warn(\n"
     ]
    },
    {
     "data": {
      "text/plain": [
       "array([1159.1770442])"
      ]
     },
     "execution_count": 70,
     "metadata": {},
     "output_type": "execute_result"
    }
   ],
   "source": [
    "lr.predict([[le.transform(['January'])[0],2029,le_1.transform(['ATF'])[0]]])"
   ]
  },
  {
   "cell_type": "code",
   "execution_count": 75,
   "id": "c932671c",
   "metadata": {},
   "outputs": [
    {
     "name": "stderr",
     "output_type": "stream",
     "text": [
      "C:\\Users\\andre\\anaconda3\\lib\\site-packages\\xgboost\\core.py:158: UserWarning: [09:23:30] WARNING: C:\\buildkite-agent\\builds\\buildkite-windows-cpu-autoscaling-group-i-0015a694724fa8361-1\\xgboost\\xgboost-ci-windows\\src\\objective\\regression_obj.cu:227: reg:linear is now deprecated in favor of reg:squarederror.\n",
      "  warnings.warn(smsg, UserWarning)\n"
     ]
    },
    {
     "data": {
      "text/plain": [
       "0.9244903491738438"
      ]
     },
     "execution_count": 75,
     "metadata": {},
     "output_type": "execute_result"
    }
   ],
   "source": [
    "import xgboost as xg\n",
    "xgb_r = xg.XGBRegressor(objective ='reg:linear', \n",
    "                  n_estimators = 10, seed = 123) \n",
    "  \n",
    "# Fitting the model \n",
    "xgb_r.fit(xtrain, ytrain) \n",
    "ypred = xgb_r.predict(xtest)\n",
    "r2_score(ytest,ypred)"
   ]
  },
  {
   "cell_type": "code",
   "execution_count": 82,
   "id": "4cdd672f",
   "metadata": {},
   "outputs": [
    {
     "data": {
      "text/plain": [
       "array([667.16785], dtype=float32)"
      ]
     },
     "execution_count": 82,
     "metadata": {},
     "output_type": "execute_result"
    }
   ],
   "source": [
    "xgb_r.predict([[le.transform(['February'])[0],2025,le_1.transform(['ATF'])[0]]])"
   ]
  },
  {
   "cell_type": "code",
   "execution_count": null,
   "id": "a5063759",
   "metadata": {},
   "outputs": [],
   "source": []
  }
 ],
 "metadata": {
  "kernelspec": {
   "display_name": "Python 3 (ipykernel)",
   "language": "python",
   "name": "python3"
  },
  "language_info": {
   "codemirror_mode": {
    "name": "ipython",
    "version": 3
   },
   "file_extension": ".py",
   "mimetype": "text/x-python",
   "name": "python",
   "nbconvert_exporter": "python",
   "pygments_lexer": "ipython3",
   "version": "3.9.12"
  }
 },
 "nbformat": 4,
 "nbformat_minor": 5
}
